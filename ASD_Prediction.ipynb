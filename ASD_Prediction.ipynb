{
  "nbformat": 4,
  "nbformat_minor": 0,
  "metadata": {
    "colab": {
      "provenance": [],
      "mount_file_id": "1gc-K13sMCcBXAI0dcFejihbT7sI3c7gA",
      "authorship_tag": "ABX9TyO+Q//JDN6BO2efKGDXmE76",
      "include_colab_link": true
    },
    "kernelspec": {
      "name": "python3",
      "display_name": "Python 3"
    },
    "language_info": {
      "name": "python"
    }
  },
  "cells": [
    {
      "cell_type": "markdown",
      "metadata": {
        "id": "view-in-github",
        "colab_type": "text"
      },
      "source": [
        "<a href=\"https://colab.research.google.com/github/karki-dennis/ASD-Prediction-Using-AI-ML/blob/dev1/ASD_Prediction.ipynb\" target=\"_parent\"><img src=\"https://colab.research.google.com/assets/colab-badge.svg\" alt=\"Open In Colab\"/></a>"
      ]
    },
    {
      "cell_type": "code",
      "execution_count": null,
      "metadata": {
        "id": "lyndYpbfMr9-"
      },
      "outputs": [],
      "source": [
        "import pandas as pd\n",
        "\n",
        "\n",
        "# Load the four datasets\n",
        "d1 = pd.read_csv('/content/drive/MyDrive/audata/text/Autism-Child-Data.csv')\n",
        "d2 = pd.read_csv('/content/drive/MyDrive/audata/text/train.csv')\n",
        "d3 = pd.read_csv('/content/drive/MyDrive/audata/text/X_prepared.csv')\n",
        "d4 = pd.read_csv('/content/drive/MyDrive/audata/text/Toddler Autism dataset July 2018.csv')\n"
      ]
    },
    {
      "cell_type": "code",
      "source": [],
      "metadata": {
        "id": "omqgBJSpNWQ1"
      },
      "execution_count": null,
      "outputs": []
    }
  ]
}